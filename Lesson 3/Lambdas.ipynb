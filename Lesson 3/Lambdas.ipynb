{
 "cells": [
  {
   "cell_type": "code",
   "execution_count": 1,
   "metadata": {},
   "outputs": [],
   "source": [
    "# A lambda function is a small anonymous function.\n",
    "# A lambda function can take any number of arguments, but can only have one expression."
   ]
  },
  {
   "cell_type": "code",
   "execution_count": 2,
   "metadata": {},
   "outputs": [],
   "source": [
    "from People import *"
   ]
  },
  {
   "cell_type": "code",
   "execution_count": 3,
   "metadata": {},
   "outputs": [
    {
     "name": "stdout",
     "output_type": "stream",
     "text": [
      "<class 'function'>\n",
      "6\n"
     ]
    }
   ],
   "source": [
    "doubleMe = lambda x : x * 2\n",
    "print(type(doubleMe))\n",
    "print(doubleMe(3))"
   ]
  },
  {
   "cell_type": "code",
   "execution_count": 4,
   "metadata": {},
   "outputs": [
    {
     "name": "stdout",
     "output_type": "stream",
     "text": [
      "20\n"
     ]
    }
   ],
   "source": [
    "mul = lambda x, y : x * y\n",
    "print(mul(4,5))"
   ]
  },
  {
   "cell_type": "code",
   "execution_count": 5,
   "metadata": {},
   "outputs": [
    {
     "name": "stdout",
     "output_type": "stream",
     "text": [
      "5040\n"
     ]
    }
   ],
   "source": [
    "# Using recursion and a ternary operation\n",
    "fact = lambda n : n * fact(n - 1) if n > 1 else 1\n",
    "print(fact(7))"
   ]
  },
  {
   "cell_type": "code",
   "execution_count": 6,
   "metadata": {},
   "outputs": [
    {
     "name": "stdout",
     "output_type": "stream",
     "text": [
      "[{'id': 123456789, 'lastName': 'Smith', 'firstName': 'John'}, {'id': 654123789, 'lastName': 'Williasms', 'firstName': 'Jill'}, {'id': 467894531, 'lastName': 'Jones', 'firstName': 'Bill'}]\n"
     ]
    }
   ],
   "source": [
    "people = []\n",
    "person = {\n",
    "    'id': 123456789,\n",
    "    'lastName': \"Smith\",\n",
    "    'firstName': \"John\"\n",
    "}\n",
    "people.append(person)\n",
    "person = {\n",
    "    'id': 654123789,\n",
    "    'lastName': \"Williasms\",\n",
    "    'firstName': \"Jill\"\n",
    "}\n",
    "people.append(person)\n",
    "people.append({ 'id': 467894531, 'lastName': \"Jones\", 'firstName': \"Bill\" })\n",
    "print(people)"
   ]
  },
  {
   "cell_type": "code",
   "execution_count": 7,
   "metadata": {},
   "outputs": [
    {
     "name": "stdout",
     "output_type": "stream",
     "text": [
      "[{'id': 467894531, 'lastName': 'Jones', 'firstName': 'Bill'}, {'id': 123456789, 'lastName': 'Smith', 'firstName': 'John'}, {'id': 654123789, 'lastName': 'Williasms', 'firstName': 'Jill'}]\n"
     ]
    }
   ],
   "source": [
    "people.sort(key=lambda x:x['lastName'])\n",
    "print(people)"
   ]
  },
  {
   "cell_type": "code",
   "execution_count": 1,
   "metadata": {},
   "outputs": [
    {
     "ename": "NameError",
     "evalue": "name 'Person' is not defined",
     "output_type": "error",
     "traceback": [
      "\u001b[1;31m---------------------------------------------------------------------------\u001b[0m",
      "\u001b[1;31mNameError\u001b[0m                                 Traceback (most recent call last)",
      "Cell \u001b[1;32mIn [1], line 2\u001b[0m\n\u001b[0;32m      1\u001b[0m people \u001b[38;5;241m=\u001b[39m []\n\u001b[1;32m----> 2\u001b[0m people\u001b[38;5;241m.\u001b[39mappend(\u001b[43mPerson\u001b[49m(\u001b[38;5;241m123456789\u001b[39m, \u001b[38;5;124m\"\u001b[39m\u001b[38;5;124mJohn\u001b[39m\u001b[38;5;124m\"\u001b[39m, \u001b[38;5;124m\"\u001b[39m\u001b[38;5;124mSmith\u001b[39m\u001b[38;5;124m\"\u001b[39m))\n\u001b[0;32m      3\u001b[0m people\u001b[38;5;241m.\u001b[39mappend(Person(\u001b[38;5;241m654123789\u001b[39m, \u001b[38;5;124m\"\u001b[39m\u001b[38;5;124mJill\u001b[39m\u001b[38;5;124m\"\u001b[39m, \u001b[38;5;124m\"\u001b[39m\u001b[38;5;124mWilliams\u001b[39m\u001b[38;5;124m\"\u001b[39m))\n\u001b[0;32m      4\u001b[0m people\u001b[38;5;241m.\u001b[39mappend(Person(\u001b[38;5;241m467894531\u001b[39m, \u001b[38;5;124m\"\u001b[39m\u001b[38;5;124mBill\u001b[39m\u001b[38;5;124m\"\u001b[39m, \u001b[38;5;124m\"\u001b[39m\u001b[38;5;124mJones\u001b[39m\u001b[38;5;124m\"\u001b[39m))\n",
      "\u001b[1;31mNameError\u001b[0m: name 'Person' is not defined"
     ]
    }
   ],
   "source": [
    "people = []\n",
    "people.append(Person(123456789, \"John\", \"Smith\"))\n",
    "people.append(Person(654123789, \"Jill\", \"Williams\"))\n",
    "people.append(Person(467894531, \"Bill\", \"Jones\"))\n",
    "people.append(Person(791237894, \"Phil\", \"Jones\"))\n",
    "people.append(Person(791237894, \"John\", \"Jones\"))\n",
    "for p in people: print(p)"
   ]
  },
  {
   "cell_type": "code",
   "execution_count": 9,
   "metadata": {},
   "outputs": [
    {
     "name": "stdout",
     "output_type": "stream",
     "text": [
      "467894531 Jones           Bill           \n",
      "791237894 Jones           Phil           \n",
      "791237894 Jones           John           \n",
      "123456789 Smith           John           \n",
      "654123789 Williams        Jill           \n"
     ]
    }
   ],
   "source": [
    "people.sort(key=lambda x:x.lastName)\n",
    "for p in people: print(p)"
   ]
  },
  {
   "cell_type": "code",
   "execution_count": 10,
   "metadata": {},
   "outputs": [
    {
     "name": "stdout",
     "output_type": "stream",
     "text": [
      "467894531 Jones           Bill           \n",
      "791237894 Jones           John           \n",
      "791237894 Jones           Phil           \n",
      "123456789 Smith           John           \n",
      "654123789 Williams        Jill           \n"
     ]
    }
   ],
   "source": [
    "people.sort(key=lambda x:(x.lastName, x.firstName))\n",
    "for p in people: print(p)"
   ]
  },
  {
   "cell_type": "code",
   "execution_count": 11,
   "metadata": {},
   "outputs": [
    {
     "name": "stdout",
     "output_type": "stream",
     "text": [
      "654123789 Williams        Jill           \n",
      "123456789 Smith           John           \n",
      "791237894 Jones           Phil           \n",
      "791237894 Jones           John           \n",
      "467894531 Jones           Bill           \n"
     ]
    }
   ],
   "source": [
    "people.sort(key=lambda x:(x.lastName, x.firstName),reverse=True)\n",
    "for p in people: print(p)"
   ]
  },
  {
   "cell_type": "code",
   "execution_count": null,
   "metadata": {},
   "outputs": [],
   "source": []
  }
 ],
 "metadata": {
  "kernelspec": {
   "display_name": "Python 3 (ipykernel)",
   "language": "python",
   "name": "python3"
  },
  "language_info": {
   "codemirror_mode": {
    "name": "ipython",
    "version": 3
   },
   "file_extension": ".py",
   "mimetype": "text/x-python",
   "name": "python",
   "nbconvert_exporter": "python",
   "pygments_lexer": "ipython3",
   "version": "3.10.5"
  }
 },
 "nbformat": 4,
 "nbformat_minor": 2
}
