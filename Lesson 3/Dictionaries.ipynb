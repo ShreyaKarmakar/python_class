{
 "cells": [
  {
   "cell_type": "code",
   "execution_count": 1,
   "metadata": {},
   "outputs": [
    {
     "name": "stdout",
     "output_type": "stream",
     "text": [
      "{'id': 123456, 'lastName': 'Smith', 'firstName': 'John'}\n",
      "{}\n"
     ]
    }
   ],
   "source": [
    "# dictionaries are a list of key/value pairs\n",
    "person = {\n",
    "    'id': 123456,\n",
    "    'lastName': \"Smith\",\n",
    "    'firstName': \"John\"\n",
    "}\n",
    "\n",
    "print(person)\n",
    "\n",
    "\n",
    "# empty dictionary:\n",
    "empty = {}\n",
    "print(empty)"
   ]
  },
  {
   "cell_type": "code",
   "execution_count": 2,
   "metadata": {},
   "outputs": [
    {
     "name": "stdout",
     "output_type": "stream",
     "text": [
      "3\n"
     ]
    }
   ],
   "source": [
    "# length of dictionary:\n",
    "print (len(person))"
   ]
  },
  {
   "cell_type": "code",
   "execution_count": 3,
   "metadata": {},
   "outputs": [
    {
     "name": "stdout",
     "output_type": "stream",
     "text": [
      "John\n",
      "None\n",
      "???\n",
      "John\n",
      "{'id': 123456, 'lastName': 'Smith', 'firstName': 'John', 'kkjhjkh': '???'}\n"
     ]
    }
   ],
   "source": [
    "# get item\n",
    "print(person['firstName'])\n",
    "\n",
    "# print(person['kkjhjkh'])  <-- KeyError: 'kkjhjkh'\n",
    "\n",
    "print(person.get('kkjhjkh'))  # return None if missing\n",
    "print(person.setdefault('kkjhjkh', '???'))  # adds if missing\n",
    "print(person.setdefault('firstName', 'Jack'))  # just returns existing item\n",
    "print(person)"
   ]
  },
  {
   "cell_type": "code",
   "execution_count": 4,
   "metadata": {},
   "outputs": [
    {
     "name": "stdout",
     "output_type": "stream",
     "text": [
      "True\n",
      "True\n"
     ]
    }
   ],
   "source": [
    "# check if key exists\n",
    "print('kkjhjkh' in person)\n",
    "print('firstName' in person)"
   ]
  },
  {
   "cell_type": "code",
   "execution_count": 5,
   "metadata": {},
   "outputs": [
    {
     "name": "stdout",
     "output_type": "stream",
     "text": [
      "{'id': 123456, 'lastName': 'Smith', 'firstName': 'John', 'kkjhjkh': '???', 'middleName': 'Joe'}\n"
     ]
    }
   ],
   "source": [
    "# add item\n",
    "person['middleName'] = \"Joe\"\n",
    "\n",
    "print(person)"
   ]
  },
  {
   "cell_type": "code",
   "execution_count": 6,
   "metadata": {},
   "outputs": [
    {
     "name": "stdout",
     "output_type": "stream",
     "text": [
      "{'id': 123456, 'lastName': 'Smith', 'firstName': 'John', 'kkjhjkh': '???', 'middleName': 'James'}\n"
     ]
    }
   ],
   "source": [
    "# change item\n",
    "person['middleName'] = \"James\"\n",
    "\n",
    "print(person)"
   ]
  },
  {
   "cell_type": "code",
   "execution_count": 7,
   "metadata": {},
   "outputs": [
    {
     "name": "stdout",
     "output_type": "stream",
     "text": [
      "{'id': 123456, 'lastName': 'Smith', 'firstName': 'John', 'kkjhjkh': '???'}\n"
     ]
    }
   ],
   "source": [
    "# remove item\n",
    "# del person['middleName']\n",
    "person.pop('middleName')\n",
    "print(person)"
   ]
  },
  {
   "cell_type": "code",
   "execution_count": 8,
   "metadata": {},
   "outputs": [
    {
     "name": "stdout",
     "output_type": "stream",
     "text": [
      "dict_keys(['id', 'lastName', 'firstName', 'kkjhjkh'])\n"
     ]
    }
   ],
   "source": [
    "# get keys\n",
    "print(person.keys())"
   ]
  },
  {
   "cell_type": "code",
   "execution_count": 9,
   "metadata": {},
   "outputs": [
    {
     "name": "stdout",
     "output_type": "stream",
     "text": [
      "id: 123456\n",
      "lastName: Smith\n",
      "firstName: John\n",
      "kkjhjkh: ???\n"
     ]
    }
   ],
   "source": [
    "# looping\n",
    "for key, value in person.items():\n",
    "    print(f\"{key}: {value}\")"
   ]
  },
  {
   "cell_type": "code",
   "execution_count": 10,
   "metadata": {},
   "outputs": [
    {
     "name": "stdout",
     "output_type": "stream",
     "text": [
      "{'id': 123456, 'lastName': 'Smith', 'firstName': 'John', 'kkjhjkh': '???', 'grades': [99, 98, 85, 95, 99]}\n"
     ]
    }
   ],
   "source": [
    "person['grades'] = [99,98,85,95,99]\n",
    "print(person)"
   ]
  },
  {
   "cell_type": "code",
   "execution_count": 11,
   "metadata": {},
   "outputs": [
    {
     "name": "stdout",
     "output_type": "stream",
     "text": [
      "[{'id': 123456, 'lastName': 'Smith', 'firstName': 'John', 'kkjhjkh': '???', 'grades': [99, 98, 85, 95, 99]}, {'id': 123456, 'lastName': 'Smith', 'firstName': 'John', 'kkjhjkh': '???', 'grades': [99, 98, 85, 95, 99]}]\n"
     ]
    }
   ],
   "source": [
    "people = []\n",
    "people.append(person)\n",
    "people.append(person)\n",
    "print(people)"
   ]
  },
  {
   "cell_type": "code",
   "execution_count": 12,
   "metadata": {},
   "outputs": [
    {
     "name": "stdout",
     "output_type": "stream",
     "text": [
      "<class 'list'>\n",
      "<class 'dict'>\n"
     ]
    }
   ],
   "source": [
    "print(type(people))\n",
    "print(type(people[0]))"
   ]
  },
  {
   "cell_type": "code",
   "execution_count": 13,
   "metadata": {},
   "outputs": [
    {
     "name": "stdout",
     "output_type": "stream",
     "text": [
      "{}\n"
     ]
    }
   ],
   "source": [
    "# clear all\n",
    "person.clear()\n",
    "print(person)"
   ]
  },
  {
   "cell_type": "code",
   "execution_count": 16,
   "metadata": {},
   "outputs": [
    {
     "data": {
      "text/plain": [
       "True"
      ]
     },
     "execution_count": 16,
     "metadata": {},
     "output_type": "execute_result"
    }
   ],
   "source": [
    "isinstance(people, list)"
   ]
  },
  {
   "cell_type": "code",
   "execution_count": null,
   "metadata": {},
   "outputs": [],
   "source": []
  }
 ],
 "metadata": {
  "kernelspec": {
   "display_name": "Python 3 (ipykernel)",
   "language": "python",
   "name": "python3"
  },
  "language_info": {
   "codemirror_mode": {
    "name": "ipython",
    "version": 3
   },
   "file_extension": ".py",
   "mimetype": "text/x-python",
   "name": "python",
   "nbconvert_exporter": "python",
   "pygments_lexer": "ipython3",
   "version": "3.10.5"
  }
 },
 "nbformat": 4,
 "nbformat_minor": 2
}
