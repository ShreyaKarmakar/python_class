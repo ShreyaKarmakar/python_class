{
 "cells": [
  {
   "cell_type": "code",
   "execution_count": 12,
   "metadata": {},
   "outputs": [],
   "source": [
    "import math"
   ]
  },
  {
   "cell_type": "code",
   "execution_count": 13,
   "metadata": {},
   "outputs": [],
   "source": [
    "def KelvinToFarenheit(k):\n",
    "    assert type(k) is int or type(k) is float, \"Value must be a number!\"\n",
    "    assert k >= 0, \"Colder than absolute zero!\"\n",
    "    return 1.8 * (k - 273) + 32"
   ]
  },
  {
   "cell_type": "code",
   "execution_count": 14,
   "metadata": {},
   "outputs": [
    {
     "ename": "NameError",
     "evalue": "name 'KelvinToFahrenheit' is not defined",
     "output_type": "error",
     "traceback": [
      "\u001b[1;31m---------------------------------------------------------------------------\u001b[0m",
      "\u001b[1;31mNameError\u001b[0m                                 Traceback (most recent call last)",
      "Cell \u001b[1;32mIn [14], line 1\u001b[0m\n\u001b[1;32m----> 1\u001b[0m \u001b[38;5;28mprint\u001b[39m (\u001b[43mKelvinToFahrenheit\u001b[49m(\u001b[38;5;241m5\u001b[39m))\n",
      "\u001b[1;31mNameError\u001b[0m: name 'KelvinToFahrenheit' is not defined"
     ]
    }
   ],
   "source": [
    "print (KelvinToFahrenheit(5))\n",
    "print(KelvinToFarenheit)"
   ]
  },
  {
   "cell_type": "code",
   "execution_count": null,
   "metadata": {},
   "outputs": [],
   "source": [
    "print (KelvinToFahrenheit(-5))"
   ]
  },
  {
   "cell_type": "code",
   "execution_count": null,
   "metadata": {},
   "outputs": [],
   "source": [
    "try:\n",
    "    s = input(\"Enter a temperature in Kelvin (k >= 0): \")\n",
    "    fValue = float(s)\n",
    "    far = KelvinToFarenheit(fValue)\n",
    "    print (f\"{fValue:.2f} K = {far:.2f} F\")\n",
    "except AssertionError as ex:\n",
    "    print(\"Invalid input temperature: \" + str(ex))\n",
    "except ValueError as ex:\n",
    "    print(\"Input not a number: \" + str(ex))"
   ]
  },
  {
   "cell_type": "code",
   "execution_count": null,
   "metadata": {},
   "outputs": [],
   "source": [
    "def polarToRect(angle, magnitude):\n",
    "    assert type(angle) is int or type(angle) is float, \"Angle must be a number\"\n",
    "    assert type(magnitude) is int or type(magnitude) is float, \"Magnitude must be a number\"\n",
    "    assert (angle >= 0 and angle < math.pi * 2), \"angle not between 0 and 2 pi\"\n",
    "    assert magnitude >= 0, \"magnitude must >= 0\"\n",
    "    \n",
    "    x = magnitude * math.cos(angle)\n",
    "    y = magnitude * math.sin(angle)\n",
    "    return x, y"
   ]
  },
  {
   "cell_type": "code",
   "execution_count": null,
   "metadata": {},
   "outputs": [],
   "source": [
    "print (polarToRect(1.7, 3))"
   ]
  },
  {
   "cell_type": "code",
   "execution_count": null,
   "metadata": {},
   "outputs": [],
   "source": [
    "print (polarToRect(9.7, 3))"
   ]
  },
  {
   "cell_type": "code",
   "execution_count": null,
   "metadata": {},
   "outputs": [],
   "source": [
    "print (polarToRect(3.7, -3))"
   ]
  },
  {
   "cell_type": "code",
   "execution_count": null,
   "metadata": {},
   "outputs": [],
   "source": []
  }
 ],
 "metadata": {
  "kernelspec": {
   "display_name": "Python 3 (ipykernel)",
   "language": "python",
   "name": "python3"
  },
  "language_info": {
   "codemirror_mode": {
    "name": "ipython",
    "version": 3
   },
   "file_extension": ".py",
   "mimetype": "text/x-python",
   "name": "python",
   "nbconvert_exporter": "python",
   "pygments_lexer": "ipython3",
   "version": "3.10.5"
  }
 },
 "nbformat": 4,
 "nbformat_minor": 2
}
