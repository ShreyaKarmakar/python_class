{
 "cells": [
  {
   "cell_type": "code",
   "execution_count": 6,
   "metadata": {},
   "outputs": [],
   "source": [
    "# https://www.tutorialspoint.com/python/python_exceptions.htm"
   ]
  },
  {
   "cell_type": "code",
   "execution_count": 7,
   "metadata": {},
   "outputs": [],
   "source": [
    "def divideNums(x, y):\n",
    "    return x / y;"
   ]
  },
  {
   "cell_type": "code",
   "execution_count": 8,
   "metadata": {},
   "outputs": [
    {
     "name": "stdout",
     "output_type": "stream",
     "text": [
      "3.0\n",
      "1.5\n",
      "Good to go.\n"
     ]
    }
   ],
   "source": [
    "# print(divideNums(3, 0))   <- ZeroDivisionError: division by zero\n",
    "\n",
    "try:\n",
    "    print (divideNums(3, 1))\n",
    "    print (divideNums(3, 2))\n",
    "except:\n",
    "    print(\"An error occurred 1\")\n",
    "    print(\"An error occurred 2\")\n",
    "    print(\"An error occurred 3\")\n",
    "else:  # else block is optional\n",
    "    print(\"Good to go.\")"
   ]
  },
  {
   "cell_type": "code",
   "execution_count": 9,
   "metadata": {},
   "outputs": [
    {
     "name": "stdout",
     "output_type": "stream",
     "text": [
      "A divide by zero error occurred\n"
     ]
    }
   ],
   "source": [
    "try:\n",
    "    print (divideNums(3, 0))\n",
    "    print (divideNums(3, 2))\n",
    "except ZeroDivisionError:\n",
    "    print(\"A divide by zero error occurred\")\n",
    "else:\n",
    "    print(\"Good to go.\")"
   ]
  },
  {
   "cell_type": "code",
   "execution_count": 10,
   "metadata": {},
   "outputs": [
    {
     "name": "stdout",
     "output_type": "stream",
     "text": [
      "A value error occurred\n"
     ]
    }
   ],
   "source": [
    "try:\n",
    "    i = int(\"A\")\n",
    "    print (divideNums(3, 0))\n",
    "    print (divideNums(3, 2))\n",
    "except ZeroDivisionError:\n",
    "    print(\"A divide by zero error occurred\")\n",
    "except ValueError:\n",
    "    print(\"A value error occurred\")\n",
    "except:\n",
    "    print(\"Some other error occurred\")\n",
    "else:\n",
    "    print(\"Good to go.\")"
   ]
  },
  {
   "cell_type": "code",
   "execution_count": 11,
   "metadata": {},
   "outputs": [],
   "source": [
    "class OutOfRangeError(RuntimeError):\n",
    "    def __init__(self, msg):\n",
    "        super().__init__(msg)"
   ]
  },
  {
   "cell_type": "code",
   "execution_count": 12,
   "metadata": {},
   "outputs": [],
   "source": [
    "def getChar(s, index):\n",
    "    if s is not None and len(s) > index:\n",
    "        return s[index];\n",
    "    raise OutOfRangeError(\"The index provided is out of range\")"
   ]
  },
  {
   "cell_type": "code",
   "execution_count": 13,
   "metadata": {},
   "outputs": [
    {
     "name": "stdout",
     "output_type": "stream",
     "text": [
      "Index out of range: The index provided is out of range\n"
     ]
    }
   ],
   "source": [
    "try:\n",
    "    #i = int(\"A\")\n",
    "    print(getChar('ABC', 10))\n",
    "    print (divideNums(3, 0))\n",
    "    print (divideNums(3, 2))\n",
    "except ZeroDivisionError as ex:\n",
    "    print(\"A divide by zero error occurred: \" + str(ex))\n",
    "except ValueError as ex:\n",
    "    print(\"A value error occurred: \" + str(ex))\n",
    "except OutOfRangeError as ex:\n",
    "    print(\"Index out of range: \" + str(ex))\n",
    "except Exception as ex:\n",
    "    print(\"Some other error occurred: \" + str(ex))\n",
    "else:\n",
    "    print(\"Good to go.\")"
   ]
  },
  {
   "cell_type": "code",
   "execution_count": null,
   "metadata": {},
   "outputs": [],
   "source": []
  },
  {
   "cell_type": "code",
   "execution_count": null,
   "metadata": {},
   "outputs": [],
   "source": []
  }
 ],
 "metadata": {
  "kernelspec": {
   "display_name": "Python 3 (ipykernel)",
   "language": "python",
   "name": "python3"
  },
  "language_info": {
   "codemirror_mode": {
    "name": "ipython",
    "version": 3
   },
   "file_extension": ".py",
   "mimetype": "text/x-python",
   "name": "python",
   "nbconvert_exporter": "python",
   "pygments_lexer": "ipython3",
   "version": "3.10.5"
  }
 },
 "nbformat": 4,
 "nbformat_minor": 2
}
