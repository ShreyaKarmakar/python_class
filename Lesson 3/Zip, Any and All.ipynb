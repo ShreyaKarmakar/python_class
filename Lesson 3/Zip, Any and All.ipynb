{
 "cells": [
  {
   "cell_type": "code",
   "execution_count": 12,
   "metadata": {},
   "outputs": [],
   "source": [
    "nums = [1, 2, 3, 4, 5, 6, 7, 8, 9, 10]\n",
    "evens = [2, 4, 6, 8, 10]\n",
    "odds = [1, 3, 5, 7, 9]\n",
    "letters = ['A', 'B', 'C', 'D', 'E']"
   ]
  },
  {
   "cell_type": "code",
   "execution_count": 13,
   "metadata": {},
   "outputs": [
    {
     "name": "stdout",
     "output_type": "stream",
     "text": [
      "[('A', 2), ('B', 4), ('C', 6), ('D', 8), ('E', 10)]\n",
      "[('A', 1, 2), ('B', 3, 4), ('C', 5, 6), ('D', 7, 8), ('E', 9, 10)]\n"
     ]
    }
   ],
   "source": [
    "# zip takes values from each iterable, one at a time, and makes tuples out of them.\n",
    "zipped = zip(letters, evens)\n",
    "resultSet = list(zipped) # convert to list or set so we can print the results\n",
    "print(resultSet)\n",
    "\n",
    "zipped = zip(letters, odds, evens)\n",
    "resultSet = list(zipped)\n",
    "print(resultSet)"
   ]
  },
  {
   "cell_type": "code",
   "execution_count": 14,
   "metadata": {},
   "outputs": [
    {
     "name": "stdout",
     "output_type": "stream",
     "text": [
      "[('A', 1), ('B', 2), ('C', 3), ('D', 4), ('E', 5)]\n"
     ]
    }
   ],
   "source": [
    "# zip stops when one of the iterables runs out of values\n",
    "zipped = zip(letters, nums) # so, nothing past 5 will be placed in a tuple\n",
    "resultSet = list(zipped)\n",
    "print(resultSet)"
   ]
  },
  {
   "cell_type": "code",
   "execution_count": 17,
   "metadata": {},
   "outputs": [
    {
     "name": "stdout",
     "output_type": "stream",
     "text": [
      "[('A', 1, 2), ('B', 3, 4), ('C', 5, 6), ('D', 7, 8), ('E', 9, 10)]\n",
      "('A', 'B', 'C', 'D', 'E')\n",
      "(1, 3, 5, 7, 9)\n",
      "(2, 4, 6, 8, 10)\n"
     ]
    }
   ],
   "source": [
    "# unzipping - takes zipped values and separates them into separate tuples\n",
    "zipped = zip(letters, odds, evens)\n",
    "resultSet = list(zipped)\n",
    "print(resultSet)\n",
    "\n",
    "l, o, e = zip(*resultSet)\n",
    "print(l)\n",
    "print(o)\n",
    "print(e)"
   ]
  },
  {
   "cell_type": "code",
   "execution_count": null,
   "metadata": {},
   "outputs": [],
   "source": [
    "# any and all return True or False based on the following chart:\n",
    "# +-----------------------------------------+---------+---------+\n",
    "# |                                         |  any()  |  all()  |\n",
    "# +-----------------------------------------+---------+---------+\n",
    "# | All Truthy values                       |  True   |  True   |\n",
    "# +-----------------------------------------+---------+---------+\n",
    "# | All Falsy values                        |  False  |  False  |\n",
    "# +-----------------------------------------+---------+---------+\n",
    "# | One Truthy value (all others are Falsy) |  True   |  False  |\n",
    "# +-----------------------------------------+---------+---------+\n",
    "# | One Falsy value (all others are Truthy) |  True   |  False  |\n",
    "# +-----------------------------------------+---------+---------+\n",
    "# | Empty Iterable                          |  False  |  True   |\n",
    "# +-----------------------------------------+---------+---------+"
   ]
  },
  {
   "cell_type": "code",
   "execution_count": 19,
   "metadata": {},
   "outputs": [
    {
     "name": "stdout",
     "output_type": "stream",
     "text": [
      "True\n",
      "False\n"
     ]
    }
   ],
   "source": [
    "allOdds = all(o%2 == 1 for o in odds)\n",
    "print(allOdds)\n",
    "allOdds = all(o%2 == 1 for o in evens)\n",
    "print(allOdds)"
   ]
  },
  {
   "cell_type": "code",
   "execution_count": 20,
   "metadata": {},
   "outputs": [
    {
     "name": "stdout",
     "output_type": "stream",
     "text": [
      "True\n",
      "False\n"
     ]
    }
   ],
   "source": [
    "anyOdds = any(o%2 == 1 for o in odds)\n",
    "print(anyOdds)\n",
    "anyOdds = any(o%2 == 1 for o in evens)\n",
    "print(anyOdds)"
   ]
  },
  {
   "cell_type": "code",
   "execution_count": 21,
   "metadata": {},
   "outputs": [
    {
     "name": "stdout",
     "output_type": "stream",
     "text": [
      "True\n",
      "False\n"
     ]
    }
   ],
   "source": [
    "anyOdds = any(o%2 == 1 for o in nums)\n",
    "print(anyOdds)\n",
    "allOdds = all(o%2 == 1 for o in nums)\n",
    "print(allOdds)"
   ]
  },
  {
   "cell_type": "code",
   "execution_count": 22,
   "metadata": {},
   "outputs": [
    {
     "name": "stdout",
     "output_type": "stream",
     "text": [
      "True\n",
      "False\n"
     ]
    }
   ],
   "source": [
    "vowels = ('a', 'e', 'i', 'o', 'u', 'A', 'E', 'I', 'O', 'U')\n",
    "hasVowels = any(ch in vowels for ch in \"This is a test string!\")\n",
    "print(hasVowels)\n",
    "\n",
    "allVowels = all(ch in vowels for ch in \"This is a test string!\")\n",
    "print(allVowels)"
   ]
  },
  {
   "cell_type": "code",
   "execution_count": 2,
   "metadata": {},
   "outputs": [
    {
     "name": "stdout",
     "output_type": "stream",
     "text": [
      "True\n"
     ]
    }
   ],
   "source": [
    "# use all to determine if a number is prime\n",
    "num = 17\n",
    "isPrime = all(num % y > 0 for y in range(2, int(num //2) + 1))\n",
    "print (isPrime)"
   ]
  },
  {
   "cell_type": "code",
   "execution_count": 4,
   "metadata": {},
   "outputs": [
    {
     "name": "stdout",
     "output_type": "stream",
     "text": [
      "True\n"
     ]
    }
   ],
   "source": [
    "lambdaIsPrime = lambda x : all(x % y > 0 for y in range(2, int(x ** 0.5) + 1)) if x > 1 else False \n",
    "print(lambdaIsPrime(17)) "
   ]
  },
  {
   "cell_type": "code",
   "execution_count": 3,
   "metadata": {},
   "outputs": [
    {
     "ename": "NameError",
     "evalue": "name 'lambdaIsPrime' is not defined",
     "output_type": "error",
     "traceback": [
      "\u001b[1;31m---------------------------------------------------------------------------\u001b[0m",
      "\u001b[1;31mNameError\u001b[0m                                 Traceback (most recent call last)",
      "Cell \u001b[1;32mIn [3], line 2\u001b[0m\n\u001b[0;32m      1\u001b[0m \u001b[38;5;66;03m# build a list of the first X numbers indicating if they are prime\u001b[39;00m\n\u001b[1;32m----> 2\u001b[0m prime \u001b[38;5;241m=\u001b[39m [(x,lambdaIsPrime(x)) \u001b[38;5;28;01mfor\u001b[39;00m x \u001b[38;5;129;01min\u001b[39;00m \u001b[38;5;28mrange\u001b[39m(\u001b[38;5;241m1\u001b[39m, \u001b[38;5;241m20\u001b[39m)]\n\u001b[0;32m      3\u001b[0m \u001b[38;5;28mprint\u001b[39m(prime)\n",
      "Cell \u001b[1;32mIn [3], line 2\u001b[0m, in \u001b[0;36m<listcomp>\u001b[1;34m(.0)\u001b[0m\n\u001b[0;32m      1\u001b[0m \u001b[38;5;66;03m# build a list of the first X numbers indicating if they are prime\u001b[39;00m\n\u001b[1;32m----> 2\u001b[0m prime \u001b[38;5;241m=\u001b[39m [(x,\u001b[43mlambdaIsPrime\u001b[49m(x)) \u001b[38;5;28;01mfor\u001b[39;00m x \u001b[38;5;129;01min\u001b[39;00m \u001b[38;5;28mrange\u001b[39m(\u001b[38;5;241m1\u001b[39m, \u001b[38;5;241m20\u001b[39m)]\n\u001b[0;32m      3\u001b[0m \u001b[38;5;28mprint\u001b[39m(prime)\n",
      "\u001b[1;31mNameError\u001b[0m: name 'lambdaIsPrime' is not defined"
     ]
    }
   ],
   "source": [
    "# build a list of the first X numbers indicating if they are prime\n",
    "prime = [(x,lambdaIsPrime(x)) for x in range(1, 20)]\n",
    "print(prime)"
   ]
  },
  {
   "cell_type": "code",
   "execution_count": 39,
   "metadata": {},
   "outputs": [
    {
     "name": "stdout",
     "output_type": "stream",
     "text": [
      "[(1, False), (2, True), (3, True), (4, False), (5, True), (6, False), (7, True), (8, False), (9, False), (10, False), (11, True), (12, False), (13, True), (14, False), (15, False), (16, False), (17, True), (18, False), (19, True)]\n"
     ]
    }
   ],
   "source": [
    "# zip numbers with indicator if prime\n",
    "primeZipped = zip(range(1, 20), [lambdaIsPrime(x) for x in range(1, 20)])\n",
    "resultSet = list(primeZipped) \n",
    "print(resultSet)"
   ]
  },
  {
   "cell_type": "code",
   "execution_count": null,
   "metadata": {},
   "outputs": [],
   "source": []
  }
 ],
 "metadata": {
  "kernelspec": {
   "display_name": "Python 3 (ipykernel)",
   "language": "python",
   "name": "python3"
  },
  "language_info": {
   "codemirror_mode": {
    "name": "ipython",
    "version": 3
   },
   "file_extension": ".py",
   "mimetype": "text/x-python",
   "name": "python",
   "nbconvert_exporter": "python",
   "pygments_lexer": "ipython3",
   "version": "3.10.5"
  }
 },
 "nbformat": 4,
 "nbformat_minor": 2
}
