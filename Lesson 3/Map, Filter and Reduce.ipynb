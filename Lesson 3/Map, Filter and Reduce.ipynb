{
 "cells": [
  {
   "cell_type": "code",
   "execution_count": 18,
   "metadata": {},
   "outputs": [],
   "source": [
    "from functools import reduce"
   ]
  },
  {
   "cell_type": "code",
   "execution_count": 1,
   "metadata": {},
   "outputs": [
    {
     "data": {
      "text/html": [
       "<style>.container { width:80% !important; }</style>"
      ],
      "text/plain": [
       "<IPython.core.display.HTML object>"
      ]
     },
     "metadata": {},
     "output_type": "display_data"
    }
   ],
   "source": [
    "# Make code screen wider\n",
    "from IPython.core.display import display, HTML\n",
    "display(HTML(\"<style>.container { width:80% !important; }</style>\"))"
   ]
  },
  {
   "cell_type": "code",
   "execution_count": null,
   "metadata": {},
   "outputs": [],
   "source": [
    "# map - Apply a function to every item in a given list.  There is a one-for-one correspondence between input and output\n",
    "items = [1, 2, 3, 4, 5]\n",
    "squared = list(map(lambda x: x**2, items))\n",
    "print (items)\n",
    "print(squared)"
   ]
  },
  {
   "cell_type": "code",
   "execution_count": 13,
   "metadata": {},
   "outputs": [
    {
     "name": "stdout",
     "output_type": "stream",
     "text": [
      "[0, 0]\n",
      "[1, 1]\n",
      "[4, 8]\n",
      "[9, 27]\n",
      "[16, 64]\n"
     ]
    }
   ],
   "source": [
    "def square(x):\n",
    "        return (x**2)\n",
    "def cube(x):\n",
    "        return (x**3)\n",
    "\n",
    "funcs = [square, cube]\n",
    "for r in range(5):\n",
    "    value = list(map(lambda x: x(r), funcs))\n",
    "    print (value)"
   ]
  },
  {
   "cell_type": "code",
   "execution_count": 4,
   "metadata": {},
   "outputs": [
    {
     "name": "stdout",
     "output_type": "stream",
     "text": [
      "50\n"
     ]
    }
   ],
   "source": [
    "states = {\n",
    "        'AK': 'Alaska',\n",
    "        'AL': 'Alabama',\n",
    "        'AR': 'Arkansas',\n",
    "        'AZ': 'Arizona',\n",
    "        'CA': 'California',\n",
    "        'CO': 'Colorado',\n",
    "        'CT': 'Connecticut',\n",
    "        'DE': 'Delaware',\n",
    "        'FL': 'Florida',\n",
    "        'GA': 'Georgia',\n",
    "        'HI': 'Hawaii',\n",
    "        'IA': 'Iowa',\n",
    "        'ID': 'Idaho',\n",
    "        'IL': 'Illinois',\n",
    "        'IN': 'Indiana',\n",
    "        'KS': 'Kansas',\n",
    "        'KY': 'Kentucky',\n",
    "        'LA': 'Louisiana',\n",
    "        'MA': 'Massachusetts',\n",
    "        'MD': 'Maryland',\n",
    "        'ME': 'Maine',\n",
    "        'MI': 'Michigan',\n",
    "        'MN': 'Minnesota',\n",
    "        'MO': 'Missouri',\n",
    "        'MS': 'Mississippi',\n",
    "        'MT': 'Montana',\n",
    "        'NC': 'North Carolina',\n",
    "        'ND': 'North Dakota',\n",
    "        'NE': 'Nebraska',\n",
    "        'NH': 'New Hampshire',\n",
    "        'NJ': 'New Jersey',\n",
    "        'NM': 'New Mexico',\n",
    "        'NV': 'Nevada',\n",
    "        'NY': 'New York',\n",
    "        'OH': 'Ohio',\n",
    "        'OK': 'Oklahoma',\n",
    "        'OR': 'Oregon',\n",
    "        'PA': 'Pennsylvania',\n",
    "        'RI': 'Rhode Island',\n",
    "        'SC': 'South Carolina',\n",
    "        'SD': 'South Dakota',\n",
    "        'TN': 'Tennessee',\n",
    "        'TX': 'Texas',\n",
    "        'UT': 'Utah',\n",
    "        'VA': 'Virginia',\n",
    "        'VT': 'Vermont',\n",
    "        'WA': 'Washington',\n",
    "        'WI': 'Wisconsin',\n",
    "        'WV': 'West Virginia',\n",
    "        'WY': 'Wyoming'\n",
    "}"
   ]
  },
  {
   "cell_type": "code",
   "execution_count": 7,
   "metadata": {},
   "outputs": [
    {
     "name": "stdout",
     "output_type": "stream",
     "text": [
      "[{'id': 123456789, 'lastName': 'Smith', 'firstName': 'John', 'address': '123 Elm Street', 'city': 'San Diego', 'state': 'CA', 'postalCode': '92121'}, {'id': 789456123, 'lastName': 'Williams', 'firstName': 'Jane', 'address': '555 Main St', 'city': 'Escondido', 'state': 'CA', 'postalCode': '92027'}, {'id': 987654321, 'lastName': 'Jones', 'firstName': 'Carla', 'address': '212 Washington Ave', 'city': 'Las Vegas', 'state': 'NV', 'postalCode': '89109'}, {'id': 654987123, 'lastName': 'Jackson', 'firstName': 'Mickey', 'address': '1001 Happy Lane', 'city': 'Dallas', 'state': 'TX', 'postalCode': '75201'}]\n"
     ]
    }
   ],
   "source": [
    "people = [\n",
    "    { 'id': 123456789, 'lastName': \"Smith\", 'firstName': \"John\", 'address': \"123 Elm Street\", 'city': \"San Diego\", 'state': \"CA\", 'postalCode': \"92121\" },\n",
    "    { 'id': 789456123, 'lastName': \"Williams\", 'firstName': \"Jane\", 'address': \"555 Main St\", 'city': \"Escondido\", 'state': \"CA\", 'postalCode': \"92027\" },\n",
    "    { 'id': 987654321, 'lastName': \"Jones\", 'firstName': \"Carla\", 'address': \"212 Washington Ave\", 'city': \"Las Vegas\", 'state': \"NV\", 'postalCode': \"89109\" },\n",
    "    { 'id': 654987123, 'lastName': \"Jackson\", 'firstName': \"Mickey\", 'address': \"1001 Happy Lane\", 'city': \"Dallas\", 'state': \"TX\", 'postalCode': \"75201\" }\n",
    "]\n",
    "    \n",
    "print(people)"
   ]
  },
  {
   "cell_type": "code",
   "execution_count": 10,
   "metadata": {},
   "outputs": [
    {
     "name": "stdout",
     "output_type": "stream",
     "text": [
      "['California', 'California', 'Nevada', 'Texas']\n"
     ]
    }
   ],
   "source": [
    "stateNames = list(map(lambda x:states[x['state']], people))\n",
    "print(stateNames)"
   ]
  },
  {
   "cell_type": "code",
   "execution_count": 14,
   "metadata": {},
   "outputs": [
    {
     "name": "stdout",
     "output_type": "stream",
     "text": [
      "[-5, -4, -3, -2, -1]\n"
     ]
    }
   ],
   "source": [
    "#filter creates a list of elements for which a function returns true\n",
    "number_list = range(-5, 5)\n",
    "less_than_zero = list(filter(lambda x: x < 0, number_list))\n",
    "print(less_than_zero)\n"
   ]
  },
  {
   "cell_type": "code",
   "execution_count": 15,
   "metadata": {},
   "outputs": [
    {
     "name": "stdout",
     "output_type": "stream",
     "text": [
      "[{'id': 123456789, 'lastName': 'Smith', 'firstName': 'John', 'address': '123 Elm Street', 'city': 'San Diego', 'state': 'CA', 'postalCode': '92121', 'stateName': 'California'}, {'id': 789456123, 'lastName': 'Williams', 'firstName': 'Jane', 'address': '555 Main St', 'city': 'Escondido', 'state': 'CA', 'postalCode': '92027', 'stateName': 'California'}]\n"
     ]
    }
   ],
   "source": [
    "# get all people from California\n",
    "people_from_ca  = list(filter(lambda x: x['state'] == 'CA', people))\n",
    "print(people_from_ca)"
   ]
  },
  {
   "cell_type": "code",
   "execution_count": 25,
   "metadata": {},
   "outputs": [
    {
     "name": "stdout",
     "output_type": "stream",
     "text": [
      "24\n",
      "24\n"
     ]
    }
   ],
   "source": [
    "# reduce is a really useful function for performing some computation on a list and returning the result. It applies a rolling computation to sequential pairs of values in a list.\n",
    "\n",
    "# Factorial...\n",
    "product = 1\n",
    "list = [1, 2, 3, 4]\n",
    "for num in list:\n",
    "    product = product * num\n",
    "    \n",
    "print(product)\n",
    "\n",
    "\n",
    "product = reduce((lambda x, y: x * y), list)  # note running total stored in x\n",
    "print(product)"
   ]
  },
  {
   "cell_type": "code",
   "execution_count": 21,
   "metadata": {},
   "outputs": [
    {
     "name": "stdout",
     "output_type": "stream",
     "text": [
      "3.0\n"
     ]
    }
   ],
   "source": [
    "items = [1, 2, 3, 4, 5]\n",
    "average = reduce((lambda x, y: x + y), items) / len(items)\n",
    "print(average)"
   ]
  },
  {
   "cell_type": "code",
   "execution_count": 24,
   "metadata": {},
   "outputs": [
    {
     "name": "stdout",
     "output_type": "stream",
     "text": [
      "1\n"
     ]
    }
   ],
   "source": [
    "minValue = lambda a,b: a if (a < b) else b\n",
    "print(reduce(minValue,items))"
   ]
  },
  {
   "cell_type": "code",
   "execution_count": null,
   "metadata": {},
   "outputs": [],
   "source": []
  }
 ],
 "metadata": {
  "kernelspec": {
   "display_name": "Python 3",
   "language": "python",
   "name": "python3"
  },
  "language_info": {
   "codemirror_mode": {
    "name": "ipython",
    "version": 3
   },
   "file_extension": ".py",
   "mimetype": "text/x-python",
   "name": "python",
   "nbconvert_exporter": "python",
   "pygments_lexer": "ipython3",
   "version": "3.7.0"
  }
 },
 "nbformat": 4,
 "nbformat_minor": 2
}
