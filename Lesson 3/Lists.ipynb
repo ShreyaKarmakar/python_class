{
 "cells": [
  {
   "cell_type": "code",
   "execution_count": null,
   "metadata": {},
   "outputs": [],
   "source": [
    "# https://www.tutorialspoint.com/python/python_lists.htm"
   ]
  },
  {
   "cell_type": "code",
   "execution_count": 26,
   "metadata": {},
   "outputs": [
    {
     "name": "stdout",
     "output_type": "stream",
     "text": [
      "[1, 12, 4, 6]\n",
      "4\n"
     ]
    }
   ],
   "source": [
    "numbers = [1, 12, 4, 6]\n",
    "print (numbers)\n",
    "print (len(numbers))\n"
   ]
  },
  {
   "cell_type": "code",
   "execution_count": 27,
   "metadata": {},
   "outputs": [
    {
     "name": "stdout",
     "output_type": "stream",
     "text": [
      "4\n"
     ]
    }
   ],
   "source": [
    "# get values by index\n",
    "print (numbers[2])"
   ]
  },
  {
   "cell_type": "code",
   "execution_count": 28,
   "metadata": {},
   "outputs": [
    {
     "name": "stdout",
     "output_type": "stream",
     "text": [
      "7\n"
     ]
    }
   ],
   "source": [
    "# updating values\n",
    "numbers[2] = 7\n",
    "print (numbers[2])"
   ]
  },
  {
   "cell_type": "code",
   "execution_count": 29,
   "metadata": {},
   "outputs": [
    {
     "name": "stdout",
     "output_type": "stream",
     "text": [
      "[1, 12, 7, 6, 55]\n"
     ]
    }
   ],
   "source": [
    "# adding values\n",
    "# numbers[4] = 55  <-- illegal: IndexError: list assignment index out of range\n",
    "numbers.append(55)\n",
    "print (numbers)"
   ]
  },
  {
   "cell_type": "code",
   "execution_count": 30,
   "metadata": {},
   "outputs": [
    {
     "name": "stdout",
     "output_type": "stream",
     "text": [
      "[1, 7, 6, 55]\n",
      "[1, 7, 55]\n"
     ]
    }
   ],
   "source": [
    "# deleting values\n",
    "# by index:\n",
    "del numbers[1]  # delete the 12\n",
    "print (numbers)\n",
    "# by value\n",
    "numbers.remove(6)  # removes the 6\n",
    "print (numbers)"
   ]
  },
  {
   "cell_type": "code",
   "execution_count": 31,
   "metadata": {},
   "outputs": [
    {
     "name": "stdout",
     "output_type": "stream",
     "text": [
      "[4, 1, 7, 55]\n",
      "[4, 1, 7, 55, 99]\n"
     ]
    }
   ],
   "source": [
    "numbers.insert(0, 4)  # insert a 4 at the beginning of the list (any value < 0 for the index)\n",
    "print (numbers)\n",
    "\n",
    "numbers.insert(10, 99)  # insert a 99 at the end of the list, any index > len(numbers)\n",
    "print (numbers)"
   ]
  },
  {
   "cell_type": "code",
   "execution_count": 32,
   "metadata": {},
   "outputs": [
    {
     "name": "stdout",
     "output_type": "stream",
     "text": [
      "[4, 1, 7, 55, 99, 5, 9, 4, 7]\n"
     ]
    }
   ],
   "source": [
    "# concatenate lists\n",
    "nums2 = [5, 9, 4, 7]\n",
    "joined = numbers + nums2\n",
    "print(joined)"
   ]
  },
  {
   "cell_type": "code",
   "execution_count": 33,
   "metadata": {},
   "outputs": [
    {
     "name": "stdout",
     "output_type": "stream",
     "text": [
      "[1, 4, 4, 5, 7, 7, 9, 55, 99]\n",
      "[99, 55, 9, 7, 7, 5, 4, 4, 1]\n",
      "[1, 4, 4, 5, 7, 7, 9, 55, 99]\n"
     ]
    }
   ],
   "source": [
    "# sort values\n",
    "joined.sort()\n",
    "print(joined)\n",
    "\n",
    "joined.reverse()\n",
    "print(joined)\n",
    "joined.reverse()\n",
    "print(joined)\n"
   ]
  },
  {
   "cell_type": "code",
   "execution_count": 34,
   "metadata": {},
   "outputs": [
    {
     "name": "stdout",
     "output_type": "stream",
     "text": [
      "False\n",
      "True\n"
     ]
    }
   ],
   "source": [
    "# test for containment\n",
    "print (8 in joined)\n",
    "print (55 in joined)"
   ]
  },
  {
   "cell_type": "code",
   "execution_count": 35,
   "metadata": {},
   "outputs": [
    {
     "name": "stdout",
     "output_type": "stream",
     "text": [
      "1\n",
      "4\n",
      "4\n",
      "5\n",
      "7\n",
      "7\n",
      "9\n",
      "55\n",
      "99\n"
     ]
    }
   ],
   "source": [
    "# loop\n",
    "for num in joined:\n",
    "    print(num)"
   ]
  },
  {
   "cell_type": "code",
   "execution_count": 36,
   "metadata": {},
   "outputs": [
    {
     "name": "stdout",
     "output_type": "stream",
     "text": [
      "[5, 7, 7, 9, 55, 99]\n",
      "[1, 4, 4]\n"
     ]
    }
   ],
   "source": [
    "# sublists and slicing\n",
    "sublist = joined[3:]\n",
    "print(sublist)\n",
    "\n",
    "sublist = joined[:3]\n",
    "print(sublist)"
   ]
  },
  {
   "cell_type": "code",
   "execution_count": 38,
   "metadata": {},
   "outputs": [
    {
     "name": "stdout",
     "output_type": "stream",
     "text": [
      "1\n",
      "9\n"
     ]
    }
   ],
   "source": [
    "# get smallest and largest values\n",
    "print(min(joined))\n",
    "print(max(joined))"
   ]
  },
  {
   "cell_type": "code",
   "execution_count": 37,
   "metadata": {},
   "outputs": [
    {
     "name": "stdout",
     "output_type": "stream",
     "text": [
      "99\n",
      "55\n",
      "[1, 4, 4, 5, 7, 7, 9]\n"
     ]
    }
   ],
   "source": [
    "# treat like a stack - pop values\n",
    "print (joined.pop())\n",
    "print (joined.pop())\n",
    "print(joined)"
   ]
  },
  {
   "cell_type": "code",
   "execution_count": null,
   "metadata": {},
   "outputs": [],
   "source": []
  }
 ],
 "metadata": {
  "kernelspec": {
   "display_name": "Python 3",
   "language": "python",
   "name": "python3"
  },
  "language_info": {
   "codemirror_mode": {
    "name": "ipython",
    "version": 3
   },
   "file_extension": ".py",
   "mimetype": "text/x-python",
   "name": "python",
   "nbconvert_exporter": "python",
   "pygments_lexer": "ipython3",
   "version": "3.7.0"
  }
 },
 "nbformat": 4,
 "nbformat_minor": 2
}
