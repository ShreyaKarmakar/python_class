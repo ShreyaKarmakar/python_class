{
 "cells": [
  {
   "cell_type": "code",
   "execution_count": 1,
   "metadata": {},
   "outputs": [],
   "source": [
    "#https://www.pythonforbeginners.com/basics/list-comprehensions-in-python\n",
    "#https://python-3-patterns-idioms-test.readthedocs.io/en/latest/Comprehensions.html"
   ]
  },
  {
   "cell_type": "code",
   "execution_count": 2,
   "metadata": {},
   "outputs": [],
   "source": [
    "from random import randint"
   ]
  },
  {
   "cell_type": "code",
   "execution_count": 3,
   "metadata": {},
   "outputs": [],
   "source": [
    "# Basic syntax: list_variable =  [<result> for <x> in <iterable>]"
   ]
  },
  {
   "cell_type": "code",
   "execution_count": 4,
   "metadata": {},
   "outputs": [
    {
     "name": "stdout",
     "output_type": "stream",
     "text": [
      "[0, 1, 2, 3, 4, 5, 6, 7, 8, 9]\n"
     ]
    }
   ],
   "source": [
    "# iterating through a simple list\n",
    "x = []\n",
    "for i in range(10):\n",
    "    x.append(i)\n",
    "print(x)"
   ]
  },
  {
   "cell_type": "code",
   "execution_count": 5,
   "metadata": {},
   "outputs": [
    {
     "name": "stdout",
     "output_type": "stream",
     "text": [
      "[0, 1, 2, 3, 4, 5, 6, 7, 8, 9]\n"
     ]
    }
   ],
   "source": [
    "x = [i for i in range(10)]\n",
    "print(x)"
   ]
  },
  {
   "cell_type": "code",
   "execution_count": 6,
   "metadata": {},
   "outputs": [
    {
     "name": "stdout",
     "output_type": "stream",
     "text": [
      "[0, 1, 4, 9, 16, 25, 36, 49, 64, 81]\n"
     ]
    }
   ],
   "source": [
    "squares = []\n",
    "for x in range(10):\n",
    "    squares.append(x**2)\n",
    "print(squares)"
   ]
  },
  {
   "cell_type": "code",
   "execution_count": 7,
   "metadata": {},
   "outputs": [
    {
     "name": "stdout",
     "output_type": "stream",
     "text": [
      "[0, 1, 4, 9, 16, 25, 36, 49, 64, 81]\n"
     ]
    }
   ],
   "source": [
    "squares = [x**2 for x in range(10)]\n",
    "print(squares)"
   ]
  },
  {
   "cell_type": "code",
   "execution_count": 8,
   "metadata": {},
   "outputs": [
    {
     "name": "stdout",
     "output_type": "stream",
     "text": [
      "[1, 2, 3, 4]\n",
      "[1, 4, 9, 16]\n"
     ]
    }
   ],
   "source": [
    "list = [1,2,3,4]\n",
    "squares = [x**2 for x in list]\n",
    "print (list)\n",
    "print (squares)"
   ]
  },
  {
   "cell_type": "code",
   "execution_count": 9,
   "metadata": {},
   "outputs": [
    {
     "name": "stdout",
     "output_type": "stream",
     "text": [
      "['t', 'i', 'a', 't']\n"
     ]
    }
   ],
   "source": [
    "words = [\"this\", \"is\", \"a\", \"test\"]\n",
    "letters = [word[0] for word in words]\n",
    "print(letters)"
   ]
  },
  {
   "cell_type": "code",
   "execution_count": 10,
   "metadata": {},
   "outputs": [
    {
     "name": "stdout",
     "output_type": "stream",
     "text": [
      "['This', 'Is', 'A', 'Test']\n"
     ]
    }
   ],
   "source": [
    "words = [\"this\", \"is\", \"a\", \"test\"]\n",
    "capitalized = [word[0].upper() + word[1:] for word in words]\n",
    "print(capitalized)"
   ]
  },
  {
   "cell_type": "code",
   "execution_count": 11,
   "metadata": {},
   "outputs": [
    {
     "name": "stdout",
     "output_type": "stream",
     "text": [
      "['To', 'Kill', 'a', 'Mockingbird']\n"
     ]
    }
   ],
   "source": [
    "# Crazy comprehension!\n",
    "words = [\"to\", \"kill\", \"a\", \"mockingbird\"]\n",
    "ignore = {\"a\", \"an\", \"and\", \"as\", \"at\", \"but\", \"by\", \"down\", \"for\", \"from\", \"if\", \"in\", \"into\", \"lik\", \"near\", \"nor\", \"of\", \"off\", \"on\", \"once\", \"onto\", \"or\", \"over\", \"past\", \"so\", \"than\", \"that\", \"the\", \"till\", \"to\", \"upon\", \"when\", \"with\", \"yet\"}\n",
    "\n",
    "capitalized = [word[0].upper() + word[1:].lower() if (index == 0 or index == len(words)-1 or word.lower() not in ignore) else word.lower() for index, word in enumerate(words)]\n",
    "print(capitalized)"
   ]
  },
  {
   "cell_type": "code",
   "execution_count": 12,
   "metadata": {},
   "outputs": [],
   "source": [
    "# Conditional syntax: list_variable = [<result> for <x> in <iterable> if <condition>]"
   ]
  },
  {
   "cell_type": "code",
   "execution_count": 13,
   "metadata": {},
   "outputs": [
    {
     "name": "stdout",
     "output_type": "stream",
     "text": [
      "[6, 7, 11, 95, 95, 33, 47, 56, 3, 67]\n",
      "[6, 56]\n"
     ]
    }
   ],
   "source": [
    "rands = [randint(1,100) for x in range(10)]\n",
    "print(rands)\n",
    "\n",
    "# With filter after for/in block\n",
    "# get only evens...\n",
    "evens = [x for x in rands if x % 2 == 0]\n",
    "print(evens)"
   ]
  },
  {
   "cell_type": "code",
   "execution_count": 14,
   "metadata": {},
   "outputs": [
    {
     "name": "stdout",
     "output_type": "stream",
     "text": [
      "[0, 15, 30, 45, 60, 75, 90]\n"
     ]
    }
   ],
   "source": [
    "# multiple conditions (think \"and\")\n",
    "number_list = [x for x in range(100) if x % 3 == 0 if x % 5 == 0]\n",
    "print(number_list)"
   ]
  },
  {
   "cell_type": "code",
   "execution_count": 15,
   "metadata": {},
   "outputs": [
    {
     "name": "stdout",
     "output_type": "stream",
     "text": [
      "['A1', 'A2', 'A3', 'B1', 'B2', 'B3', 'C1', 'C2', 'C3']\n"
     ]
    }
   ],
   "source": [
    "# can have nested for's\n",
    "\n",
    "# example cross join\n",
    "A = ['A', 'B', 'C']\n",
    "B = ['1', '2', '3']\n",
    "\n",
    "C = [a + b for a in A for b in B]\n",
    "print(C)\n"
   ]
  },
  {
   "cell_type": "code",
   "execution_count": null,
   "metadata": {},
   "outputs": [],
   "source": []
  }
 ],
 "metadata": {
  "kernelspec": {
   "display_name": "Python 3",
   "language": "python",
   "name": "python3"
  },
  "language_info": {
   "codemirror_mode": {
    "name": "ipython",
    "version": 3
   },
   "file_extension": ".py",
   "mimetype": "text/x-python",
   "name": "python",
   "nbconvert_exporter": "python",
   "pygments_lexer": "ipython3",
   "version": "3.7.0"
  }
 },
 "nbformat": 4,
 "nbformat_minor": 2
}
