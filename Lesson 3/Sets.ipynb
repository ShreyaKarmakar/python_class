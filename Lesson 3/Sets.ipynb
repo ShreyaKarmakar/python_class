{
 "cells": [
  {
   "cell_type": "code",
   "execution_count": 1,
   "metadata": {},
   "outputs": [
    {
     "name": "stdout",
     "output_type": "stream",
     "text": [
      "{'cherry', 'grapes', 'apple', 'banana'}\n",
      "4\n"
     ]
    }
   ],
   "source": [
    "# note: sets are unordered so output may not match initialization order\n",
    "fruits = { \"apple\", \"banana\", \"cherry\", \"grapes\" }\n",
    "\n",
    "print(fruits)\n",
    "print(len(fruits))"
   ]
  },
  {
   "cell_type": "code",
   "execution_count": 2,
   "metadata": {},
   "outputs": [
    {
     "name": "stdout",
     "output_type": "stream",
     "text": [
      "True\n",
      "False\n"
     ]
    }
   ],
   "source": [
    "# access elements by using in\n",
    "print (\"grapes\" in fruits)\n",
    "print (\"orange\" in fruits)"
   ]
  },
  {
   "cell_type": "code",
   "execution_count": 3,
   "metadata": {},
   "outputs": [
    {
     "name": "stdout",
     "output_type": "stream",
     "text": [
      "cherry\n",
      "grapes\n",
      "apple\n",
      "banana\n"
     ]
    }
   ],
   "source": [
    "# loop\n",
    "for fruit in fruits:\n",
    "  print(fruit)"
   ]
  },
  {
   "cell_type": "code",
   "execution_count": 4,
   "metadata": {},
   "outputs": [
    {
     "name": "stdout",
     "output_type": "stream",
     "text": [
      "True\n"
     ]
    }
   ],
   "source": [
    "# add items\n",
    "fruits.add(\"orange\")\n",
    "fruits.add(\"orange\")\n",
    "fruits.add(\"orange\")\n",
    "print (\"orange\" in fruits)"
   ]
  },
  {
   "cell_type": "code",
   "execution_count": 5,
   "metadata": {},
   "outputs": [
    {
     "name": "stdout",
     "output_type": "stream",
     "text": [
      "{'apricot', 'cherry', 'mango', 'orange', 'apple', 'banana', 'grapes'}\n"
     ]
    }
   ],
   "source": [
    "# add many:\n",
    "fruits.update([\"mango\", \"apricot\"])\n",
    "print(fruits)"
   ]
  },
  {
   "cell_type": "code",
   "execution_count": 6,
   "metadata": {},
   "outputs": [
    {
     "name": "stdout",
     "output_type": "stream",
     "text": [
      "{'apricot', 'cherry', 'mango', 'almond', 'orange', 'apple', 'banana', 'grapes'}\n",
      "{'apricot', 'cherry', 'mango', 'orange', 'apple', 'banana', 'grapes'}\n"
     ]
    }
   ],
   "source": [
    "# remove\n",
    "fruits.add(\"almond\")\n",
    "print(fruits)\n",
    "fruits.remove(\"almond\")\n",
    "print(fruits)\n",
    "\n",
    "# use discard if unsure item exists:\n",
    "fruits.discard(\"pecan\")"
   ]
  },
  {
   "cell_type": "code",
   "execution_count": 7,
   "metadata": {},
   "outputs": [
    {
     "name": "stdout",
     "output_type": "stream",
     "text": [
      "{'apricot', 'cherry', 'mango', 'orange', 'apple', 'banana', 'grapes'}\n",
      "apricot\n",
      "{'cherry', 'mango', 'orange', 'apple', 'banana', 'grapes'}\n"
     ]
    }
   ],
   "source": [
    "# pop removes an arbitrary item\n",
    "print(fruits)\n",
    "print(fruits.pop())\n",
    "print(fruits)"
   ]
  },
  {
   "cell_type": "code",
   "execution_count": 8,
   "metadata": {},
   "outputs": [
    {
     "name": "stdout",
     "output_type": "stream",
     "text": [
      "{1, 2, 3, 5, 7, 9, 11, 13, 15, 17, 19}\n",
      "{3, 5, 7, 11, 13, 17, 19}\n",
      "{1, 9, 15}\n",
      "False\n",
      "False\n",
      "True\n",
      "True\n",
      "False\n"
     ]
    }
   ],
   "source": [
    "# important set operations\n",
    "odds = { 1, 3, 5, 7, 9, 11, 13, 15, 17, 19 }\n",
    "primes = { 2, 3, 5, 7, 11, 13, 17, 19 }\n",
    "\n",
    "# union  (A or B)\n",
    "union = odds.union(primes)\n",
    "print(union)\n",
    "\n",
    "# intersection  (A and B)\n",
    "intersect = odds.intersection(primes)\n",
    "print(intersect)\n",
    "\n",
    "# difference (A - B)\n",
    "diff = odds.difference(primes)\n",
    "print(diff)\n",
    "\n",
    "# disjoint?\n",
    "print(odds.isdisjoint(primes))\n",
    "\n",
    "# sub/superset\n",
    "A = { 1, 3, 5, 7, 9}\n",
    "B = { 3, 7 }\n",
    "print(A.issubset(B))  # A is a subset of B?\n",
    "print(B.issubset(A))  # B is a subset of A?\n",
    "print(A.issuperset(B))  # A is a superset of B?\n",
    "print(B.issuperset(A))  # B is a superset of A?\n",
    "\n",
    "# Good homework: use sets to calculate primes up to some number (sieve technique)"
   ]
  },
  {
   "cell_type": "code",
   "execution_count": 9,
   "metadata": {},
   "outputs": [
    {
     "name": "stdout",
     "output_type": "stream",
     "text": [
      "[2, 3, 5, 7, 11, 13, 17, 19]\n",
      "[2, 3, 5, 7, 11, 13, 17, 19, 2]\n",
      "{2, 3, 5, 7, 11, 13, 17, 19}\n"
     ]
    }
   ],
   "source": [
    "# Convert from set to list and back again...\n",
    "listOfPrimes = list(primes)\n",
    "print(listOfPrimes)\n",
    "\n",
    "# now add a duplicate to the list\n",
    "listOfPrimes.append(2)\n",
    "print(listOfPrimes)\n",
    "\n",
    "# convert back to a set\n",
    "newSet = set(listOfPrimes)\n",
    "print(newSet)  # the duplicate 2 is gone!"
   ]
  },
  {
   "cell_type": "code",
   "execution_count": null,
   "metadata": {},
   "outputs": [],
   "source": []
  }
 ],
 "metadata": {
  "kernelspec": {
   "display_name": "Python 3",
   "language": "python",
   "name": "python3"
  },
  "language_info": {
   "codemirror_mode": {
    "name": "ipython",
    "version": 3
   },
   "file_extension": ".py",
   "mimetype": "text/x-python",
   "name": "python",
   "nbconvert_exporter": "python",
   "pygments_lexer": "ipython3",
   "version": "3.7.0"
  }
 },
 "nbformat": 4,
 "nbformat_minor": 2
}
