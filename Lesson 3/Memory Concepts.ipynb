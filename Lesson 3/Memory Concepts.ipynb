{
 "cells": [
  {
   "cell_type": "code",
   "execution_count": 1,
   "metadata": {},
   "outputs": [],
   "source": [
    "from People import *\n",
    "import copy"
   ]
  },
  {
   "cell_type": "code",
   "execution_count": 2,
   "metadata": {},
   "outputs": [
    {
     "name": "stdout",
     "output_type": "stream",
     "text": [
      "x=5\n",
      "y=5\n",
      "x=5\n",
      "y=6\n",
      "id(x)=0x7ffda72bef80\n",
      "id(y)=0x7ffda72befa0\n"
     ]
    }
   ],
   "source": [
    "x = 5\n",
    "print(f\"x={x}\")\n",
    "y = x\n",
    "print(f\"y={y}\")\n",
    "\n",
    "y += 1\n",
    "print(f\"x={x}\")\n",
    "print(f\"y={y}\")\n",
    "\n",
    "# x and y are distinct variables, so when you change the value of one it does not affect the other\n",
    "print(f\"id(x)={hex(id(x))}\")\n",
    "print(f\"id(y)={hex(id(y))}\")"
   ]
  },
  {
   "cell_type": "code",
   "execution_count": 17,
   "metadata": {},
   "outputs": [
    {
     "name": "stdout",
     "output_type": "stream",
     "text": [
      "123456789 Williams        Billy          \n",
      "id(p1)=0x274dc181748\n",
      "========================================\n",
      "987654321 Smith           Jill           \n",
      "id(p2)=0x274dc1817f0\n",
      "========================================\n",
      "123456789 Williams        Billy          \n",
      "id(p3)=0x274dc181748\n",
      "123456789 Williams        Sally          \n",
      "123456789 Williams        Sally          \n"
     ]
    }
   ],
   "source": [
    "p1 = Person(123456789, \"Billy\", \"Williams\")\n",
    "print(p1)\n",
    "print(f\"id(p1)={hex(id(p1))}\")\n",
    "\n",
    "print('=' * 40)\n",
    "\n",
    "p2 = Person(987654321, \"Jill\", \"Smith\")\n",
    "print(p2)\n",
    "# p1 and p2 are distinct objects and reside at different locations in memory\n",
    "print(f\"id(p2)={hex(id(p2))}\")\n",
    "\n",
    "print('=' * 40)\n",
    "\n",
    "p3 = p1\n",
    "print(p3)\n",
    "print(f\"id(p3)={hex(id(p3))}\")\n",
    "p3.firstName = \"Sally\"\n",
    "print(p3)\n",
    "print(p1)\n",
    "# as you can see, p1 and p3 actually are the same object, so changing one changes the other\n"
   ]
  },
  {
   "cell_type": "code",
   "execution_count": 7,
   "metadata": {},
   "outputs": [
    {
     "name": "stdout",
     "output_type": "stream",
     "text": [
      "123456789 Williams        Billy          \n",
      "id(p1)=0x274dc1e6cf8\n",
      "========================================\n",
      "123456789 Williams        Billy          \n",
      "id(p2)=0x274dc1e6d30\n",
      "123456789 Williams        Billy          \n",
      "123456789 Williams        Sally          \n"
     ]
    }
   ],
   "source": [
    "p1 = Person(123456789, \"Billy\", \"Williams\")\n",
    "print(p1)\n",
    "print(f\"id(p1)={hex(id(p1))}\")\n",
    "print('=' * 40)\n",
    "\n",
    "# perform a \"shallow\" copy of p1 into p2\n",
    "p2 = copy.copy(p1)\n",
    "print(p2)\n",
    "print(f\"id(p2)={hex(id(p2))}\")\n",
    "p2.firstName = \"Sally\"\n",
    "print(p1)\n",
    "print(p2)\n",
    "# notice they are two different objects and changing one doesn't seem to affect the other\n"
   ]
  },
  {
   "cell_type": "code",
   "execution_count": 8,
   "metadata": {},
   "outputs": [
    {
     "name": "stdout",
     "output_type": "stream",
     "text": [
      "[1, 2, 3, 4, 5, 6, 7]\n",
      "[1, 2, 3, 4, 5, 6, 7]\n",
      "========================================\n",
      "[1, 2, 99, 4, 5, 6, 7]\n",
      "[1, 2, 99, 4, 5, 6, 7]\n"
     ]
    }
   ],
   "source": [
    "l1 = [1,2,3,4,5,6,7]\n",
    "l2 = l1\n",
    "\n",
    "print(l1)\n",
    "print(l2)\n",
    "print('=' * 40)\n",
    "\n",
    "# again, this is a reference copy, os l1 and l2 are the same list\n",
    "l2[2] = 99\n",
    "print(l1)\n",
    "print(l2)\n"
   ]
  },
  {
   "cell_type": "code",
   "execution_count": 9,
   "metadata": {},
   "outputs": [
    {
     "name": "stdout",
     "output_type": "stream",
     "text": [
      "[1, 2, 3, 4, 5, 6, 7]\n",
      "[1, 2, 3, 4, 5, 6, 7]\n",
      "========================================\n",
      "[1, 2, 3, 4, 5, 6, 7]\n",
      "[1, 2, 99, 4, 5, 6, 7]\n"
     ]
    }
   ],
   "source": [
    "l1 = [1,2,3,4,5,6,7]\n",
    "# using the list function we get a shallow copy so the lists are distinct and each item is copied\n",
    "l2 = list(l1)\n",
    "\n",
    "print(l1)\n",
    "print(l2)\n",
    "print('=' * 40)\n",
    "\n",
    "l2[2] = 99\n",
    "print(l1)\n",
    "print(l2)\n"
   ]
  },
  {
   "cell_type": "code",
   "execution_count": 11,
   "metadata": {},
   "outputs": [
    {
     "name": "stdout",
     "output_type": "stream",
     "text": [
      "[123456789 Williams Billy, 987654321 Smith Sally, 5551113456 Jones Will]\n",
      "[123456789 Johnson Billy, 987654321 Smith Sally, 5551113456 Jones Will]\n",
      "[123456789 Johnson Billy, 987654321 Smith Sally, 5551113456 Jones Will]\n"
     ]
    }
   ],
   "source": [
    "pl1 = [Person(123456789, \"Billy\", \"Williams\"), Person(987654321, \"Sally\", \"Smith\"), Person(5551113456, \"Will\", \"Jones\")  ]\n",
    "print(pl1)  # note: if the output isn't showing the oject contents, make sure Person implements __repr__\n",
    "\n",
    "pl2 = pl1\n",
    "pl2[0].lastName = \"Johnson\"\n",
    "\n",
    "# not surprising that changing the contents of one object affects the other\n",
    "print(pl1)\n",
    "print(pl2)"
   ]
  },
  {
   "cell_type": "code",
   "execution_count": 12,
   "metadata": {},
   "outputs": [
    {
     "name": "stdout",
     "output_type": "stream",
     "text": [
      "[123456789 Johnson Billy, 987654321 Smith Sally, 5551113456 Jones Will]\n",
      "[123456789 Johnson Billy, 987654321 Smith Sally, 5551113456 Jones Will]\n"
     ]
    }
   ],
   "source": [
    "pl1 = [Person(123456789, \"Billy\", \"Williams\"), Person(987654321, \"Sally\", \"Smith\"), Person(5551113456, \"Will\", \"Jones\")  ]\n",
    "# perform a shallow copy\n",
    "pl2 = list(pl1)\n",
    "pl2[0].lastName = \"Johnson\"\n",
    "\n",
    "# interesting, unlike with int values, these seem to still be connected\n",
    "# this is because a shallow copy does a one-for-one copy of each value and since each item is an object it simply copies\n",
    "# the object's reference from one list to another\n",
    "print(pl1)\n",
    "print(pl2)"
   ]
  },
  {
   "cell_type": "code",
   "execution_count": 13,
   "metadata": {},
   "outputs": [
    {
     "name": "stdout",
     "output_type": "stream",
     "text": [
      "[123456789 Johnson Billy, 987654321 Smith Sally, 5551113456 Jones Will]\n",
      "[123456789 Johnson Billy, 987654321 Smith Sally, 5551113456 Jones Will]\n"
     ]
    }
   ],
   "source": [
    "pl1 = [Person(123456789, \"Billy\", \"Williams\"), Person(987654321, \"Sally\", \"Smith\"), Person(5551113456, \"Will\", \"Jones\")  ]\n",
    "pl2 = copy.copy(pl1)\n",
    "pl2[0].lastName = \"Johnson\"\n",
    "\n",
    "# we get the same result because it is a shallow copy\n",
    "print(pl1)\n",
    "print(pl2)"
   ]
  },
  {
   "cell_type": "code",
   "execution_count": 14,
   "metadata": {},
   "outputs": [
    {
     "name": "stdout",
     "output_type": "stream",
     "text": [
      "[123456789 Williams Billy, 987654321 Smith Sally, 5551113456 Jones Will]\n",
      "[123456789 Johnson Billy, 987654321 Smith Sally, 5551113456 Jones Will]\n"
     ]
    }
   ],
   "source": [
    "pl1 = [Person(123456789, \"Billy\", \"Williams\"), Person(987654321, \"Sally\", \"Smith\"), Person(5551113456, \"Will\", \"Jones\")  ]\n",
    "# deepcopy doesn't just do a copy of each object variable from one list to the other, it copies each object's \n",
    "# value one at a time as well.\n",
    "pl2 = copy.deepcopy(pl1)\n",
    "pl2[0].lastName = \"Johnson\"\n",
    "\n",
    "print(pl1)\n",
    "print(pl2)"
   ]
  },
  {
   "cell_type": "code",
   "execution_count": null,
   "metadata": {},
   "outputs": [],
   "source": []
  }
 ],
 "metadata": {
  "kernelspec": {
   "display_name": "Python 3 (ipykernel)",
   "language": "python",
   "name": "python3"
  },
  "language_info": {
   "codemirror_mode": {
    "name": "ipython",
    "version": 3
   },
   "file_extension": ".py",
   "mimetype": "text/x-python",
   "name": "python",
   "nbconvert_exporter": "python",
   "pygments_lexer": "ipython3",
   "version": "3.10.5"
  }
 },
 "nbformat": 4,
 "nbformat_minor": 2
}
